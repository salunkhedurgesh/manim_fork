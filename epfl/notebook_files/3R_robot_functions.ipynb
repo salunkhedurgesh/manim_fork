{
 "cells": [
  {
   "cell_type": "code",
   "execution_count": 1,
   "id": "89723c3a-ffb7-40dd-bc5d-afce5073b0ae",
   "metadata": {},
   "outputs": [],
   "source": [
    "from sympy import *\n",
    "import numpy as np"
   ]
  },
  {
   "cell_type": "code",
   "execution_count": 2,
   "id": "c7f4b2b8-3437-41c2-a86a-177db5f17763",
   "metadata": {},
   "outputs": [
    {
     "data": {
      "text/plain": [
       "(rho, z)"
      ]
     },
     "execution_count": 2,
     "metadata": {},
     "output_type": "execute_result"
    }
   ],
   "source": [
    "var('c1, c2, c3, s1, s2, s3, t1, t2, t3, v1, v2, v3')\n",
    "var('sa1, sa2, sa3, ca1, ca2, ca3, d1, d2, d3, a1, a2, a3, alpha1 alpha2, alpha3')\n",
    "var('rho, z')"
   ]
  },
  {
   "cell_type": "code",
   "execution_count": 3,
   "id": "2f8bb1b9-13f1-4a0f-833b-511f66c724ec",
   "metadata": {},
   "outputs": [],
   "source": [
    "c = [c1,c2,c3]\n",
    "s = [s1,s2,s3]\n",
    "t = [t1,t2,t3]\n",
    "v = [v1,v2,v3]\n",
    "cos_list = [cos(ii) for ii in t]\n",
    "sin_list = [sin(ii) for ii in t]"
   ]
  },
  {
   "cell_type": "code",
   "execution_count": 4,
   "id": "9b484f97-ee47-4029-9b8f-0370e71847d5",
   "metadata": {},
   "outputs": [],
   "source": [
    "sa = [sa1,sa2,sa3]\n",
    "ca = [ca1,ca2,ca3]\n",
    "d_list = [d1, d2, d3]\n",
    "a_list = [a1,a2,a3]\n",
    "alpha_list = [alpha1, alpha2, alpha3]\n",
    "cos_alpha_list = [cos(ii) for ii in ca]\n",
    "sin_alpha_list = [sin(ii) for ii in sa]"
   ]
  },
  {
   "cell_type": "code",
   "execution_count": 5,
   "id": "94c7a691-9681-4c2d-8acd-e1137d636a93",
   "metadata": {},
   "outputs": [],
   "source": [
    "identities = [c[i] ** 2+s[i] ** 2 - 1 for i in range(3)]\n",
    "identities_short = [c[i] ** 2+s[i] ** 2 - 1 for i in range(1, 3)]"
   ]
  },
  {
   "cell_type": "code",
   "execution_count": 6,
   "id": "24b636f8-a291-48f0-a7d6-081d626bfd9d",
   "metadata": {},
   "outputs": [],
   "source": [
    "def my_subs(expression, symbols_existing, symbols_substitute):\n",
    "    for ii, jj in zip(symbols_existing, symbols_substitute):\n",
    "        # print(f\"substituting {ii} to {jj}\")\n",
    "        expression = expression.subs(ii, jj) \n",
    "    return expression\n",
    "\n",
    "def to_trig(expression):\n",
    "    cos_substitution = my_subs(expression, c, cos_list)\n",
    "    return my_subs(cos_substitution, s, sin_list)\n",
    "\n",
    "def from_trig(expression):\n",
    "    cos_substitution = my_subs(expression, cos_list, c)\n",
    "    return my_subs(cos_substitution, sin_list, s)\n",
    "    \n",
    "def to_trig_alpha(expression):\n",
    "    cos_substitution = my_subs(expression, ca, cos_alpha_list)\n",
    "    return my_subs(cos_substitution, sa, sin_alpha_list)"
   ]
  },
  {
   "cell_type": "code",
   "execution_count": 7,
   "id": "0b901b48-c27d-41f9-a411-881f4f47cd37",
   "metadata": {},
   "outputs": [],
   "source": [
    "def z_translation_matrix(val):\n",
    "    k = np.eye(4, 4)\n",
    "    k[2, 3] = val\n",
    "    return k\n",
    "\n",
    "\n",
    "def x_translation_matrix(val):\n",
    "    k = np.eye(4, 4)\n",
    "    k[0, 3] = val\n",
    "    return k\n",
    "\n",
    "\n",
    "def z_rotation_matrix(in_theta):\n",
    "    mat_id = eye(4, 4)\n",
    "    mat_id[0, 0] = cos(in_theta)\n",
    "    mat_id[1, 0] = sin(in_theta)\n",
    "    mat_id[0, 1] = - sin(in_theta)\n",
    "    mat_id[1, 1] = cos(in_theta)\n",
    "\n",
    "    return mat_id\n",
    "\n",
    "\n",
    "def x_rotation_matrix(in_theta):\n",
    "    mat_id = np.eye(4, 4)\n",
    "    mat_id[1, 1] = cos(in_theta)\n",
    "    mat_id[2, 1] = sin(in_theta)\n",
    "    mat_id[1, 2] = -sin(in_theta)\n",
    "    mat_id[2, 2] = cos(in_theta)\n",
    "\n",
    "    return mat_id"
   ]
  },
  {
   "cell_type": "code",
   "execution_count": 8,
   "id": "f0f992e8-ff00-422a-aa8f-87af59c4828d",
   "metadata": {},
   "outputs": [],
   "source": [
    "def jacobian(array_diff):\n",
    "    list_symbols = array_diff[0].free_symbols\n",
    "    bool_matrix_initiation = False\n",
    "    for item in array_diff:\n",
    "        new_symbols = item.free_symbols\n",
    "        for ii in new_symbols:\n",
    "            list_symbols.add(ii)\n",
    "    list_symbols = list(set(list_symbols))\n",
    "    print(f\"the list of symbols is {list_symbols}\")\n",
    "    for item in array_diff:\n",
    "        array_jacobian = [diff(item, symbol_diff) for symbol_diff in list_symbols]\n",
    "        if not bool_matrix_initiation:\n",
    "            M1 = Matrix([array_jacobian])\n",
    "            bool_matrix_initiation = True\n",
    "        else:\n",
    "            M1 = np.vstack((M1, array_jacobian))\n",
    "    print(f\"the shape of output matrix is {shape(M1)}\")\n",
    "    return Matrix(M1)"
   ]
  },
  {
   "cell_type": "code",
   "execution_count": 9,
   "id": "ef0cf95f-b530-4955-aa8d-befe90e1d20e",
   "metadata": {},
   "outputs": [],
   "source": [
    "def T_mat(theta_list, d_list, a_list, alpha_list):\n",
    "    M1 = np.eye(4)\n",
    "    for index_i in range(len(d_list)):\n",
    "        M1 = np.matmul(np.matmul(M1, z_rotation_matrix(theta_list[index_i])), z_translation_matrix(d_list[index_i]))\n",
    "        M1 = np.matmul(np.matmul(M1, x_rotation_matrix(alpha_list[index_i])), x_translation_matrix(a_list[index_i]))\n",
    "\n",
    "    return M1"
   ]
  },
  {
   "cell_type": "code",
   "execution_count": 10,
   "id": "5cde847b-aca5-4e91-ac1e-abaf502b7faf",
   "metadata": {},
   "outputs": [],
   "source": [
    "theta_list = t\n",
    "d_list = [0, 1, 0]\n",
    "a_list = [1, 2, 3 / 2]\n",
    "alpha_list = [-pi / 2, pi / 2, 0]"
   ]
  },
  {
   "cell_type": "code",
   "execution_count": 11,
   "id": "b502c8c9-5279-47d9-b7a5-edc5cebca233",
   "metadata": {},
   "outputs": [],
   "source": [
    "def give_determinant(theta_list, d_list, a_list, alpha_list):\n",
    "    T_ee = T_mat(theta_list, d_list, a_list, alpha_list)\n",
    "    x_cart = from_trig(T_ee[0, 3]) \n",
    "    y_cart = from_trig(T_ee[1, 3]) \n",
    "    z_cart = from_trig(T_ee[2, 3]) \n",
    "    vector_translation = T_ee[0:3, 3]\n",
    "    return simplify(det(jacobian(vector_translation)))"
   ]
  },
  {
   "cell_type": "code",
   "execution_count": 12,
   "id": "8f7eb03f-02ee-4319-9145-38441e5e1705",
   "metadata": {},
   "outputs": [
    {
     "name": "stdout",
     "output_type": "stream",
     "text": [
      "the list of symbols is [t3, t2, t1]\n",
      "the shape of output matrix is (3, 3)\n"
     ]
    }
   ],
   "source": [
    "determinant = give_determinant(t, d_list, a_list, alpha_list)"
   ]
  },
  {
   "cell_type": "code",
   "execution_count": null,
   "id": "f8699a0c-87e6-445d-8d47-ea022f9e073a",
   "metadata": {},
   "outputs": [],
   "source": []
  },
  {
   "cell_type": "code",
   "execution_count": 29,
   "id": "731fd033-d748-44db-9011-ff54f3cae47b",
   "metadata": {},
   "outputs": [
    {
     "name": "stdout",
     "output_type": "stream",
     "text": [
      "-4.5*sin(t3)*cos(t2)*cos(t3) - 6.0*sin(t3)*cos(t2) - 2.25*sin(t3)*cos(t3) - 3.0*sin(t3) + 2.25*cos(t2)*cos(t3)**2 + 3.0*cos(t2)*cos(t3)\n"
     ]
    }
   ],
   "source": [
    "print(determinant)"
   ]
  },
  {
   "cell_type": "code",
   "execution_count": 14,
   "id": "5fe4ca90-2df6-433e-9ec5-24d7227c1943",
   "metadata": {},
   "outputs": [
    {
     "data": {
      "text/latex": [
       "$\\displaystyle - 4.5 \\sin{\\left(t_{3} \\right)} \\cos{\\left(t_{2} \\right)} \\cos{\\left(t_{3} \\right)} - 6.0 \\sin{\\left(t_{3} \\right)} \\cos{\\left(t_{2} \\right)} - 2.25 \\sin{\\left(t_{3} \\right)} \\cos{\\left(t_{3} \\right)} - 3.0 \\sin{\\left(t_{3} \\right)} + 2.25 \\cos{\\left(t_{2} \\right)} \\cos^{2}{\\left(t_{3} \\right)} + 3.0 \\cos{\\left(t_{2} \\right)} \\cos{\\left(t_{3} \\right)}$"
      ],
      "text/plain": [
       "-4.5*sin(t3)*cos(t2)*cos(t3) - 6.0*sin(t3)*cos(t2) - 2.25*sin(t3)*cos(t3) - 3.0*sin(t3) + 2.25*cos(t2)*cos(t3)**2 + 3.0*cos(t2)*cos(t3)"
      ]
     },
     "execution_count": 14,
     "metadata": {},
     "output_type": "execute_result"
    }
   ],
   "source": [
    "determinant"
   ]
  },
  {
   "cell_type": "code",
   "execution_count": 15,
   "id": "6a24c62d-5ba6-4e34-a33a-b9b3d823e4d7",
   "metadata": {},
   "outputs": [],
   "source": [
    "T_ee = T_mat(theta_list, d_list, a_list, alpha_list)\n",
    "x_cart = from_trig(T_ee[0, 3]) \n",
    "y_cart = from_trig(T_ee[1, 3]) \n",
    "z_cart = from_trig(T_ee[2, 3]) "
   ]
  },
  {
   "cell_type": "code",
   "execution_count": 16,
   "id": "fc69c1a8-f4fd-444a-a491-cf0b80fcba7b",
   "metadata": {},
   "outputs": [],
   "source": [
    "x2y2 = simplify(T_ee[0, 3] ** 2 + T_ee[1, 3] ** 2)"
   ]
  },
  {
   "cell_type": "code",
   "execution_count": 17,
   "id": "b1227cc7-58f8-47e9-acec-73d07d2a3334",
   "metadata": {},
   "outputs": [],
   "source": [
    "x2y2_cart = from_trig(x2y2)"
   ]
  },
  {
   "cell_type": "code",
   "execution_count": 18,
   "id": "3bb0fe47-6c0d-4578-9a14-f837846f439f",
   "metadata": {},
   "outputs": [],
   "source": [
    "forward_kinematics = [x2y2_cart - rho ** 2, z_cart - z]"
   ]
  },
  {
   "cell_type": "code",
   "execution_count": 19,
   "id": "94e0feca-a92d-4897-b66c-9ab21ee278e3",
   "metadata": {},
   "outputs": [],
   "source": [
    "det_eq = from_trig(determinant)"
   ]
  },
  {
   "cell_type": "code",
   "execution_count": 20,
   "id": "4fd86db8-ee61-44a2-a7e2-0f016cf3f267",
   "metadata": {},
   "outputs": [],
   "source": [
    "forward_kinematics.append(det_eq)"
   ]
  },
  {
   "cell_type": "code",
   "execution_count": 21,
   "id": "74f2a3cf-adc3-43f1-b524-00f4ad12884f",
   "metadata": {},
   "outputs": [],
   "source": [
    "forward_kinematics.extend(identities_short)"
   ]
  },
  {
   "cell_type": "code",
   "execution_count": null,
   "id": "399ffda5-2e63-4ff8-b557-b23caa52dd66",
   "metadata": {},
   "outputs": [],
   "source": []
  },
  {
   "cell_type": "code",
   "execution_count": 22,
   "id": "8854d507-1b74-46b7-8b11-1fcfe4d84d77",
   "metadata": {},
   "outputs": [
    {
     "name": "stdout",
     "output_type": "stream",
     "text": [
      "{s3, c2, s2, c3, rho}\n",
      "{s2, c3, z}\n",
      "{s3, c2, c3}\n",
      "{s2, c2}\n",
      "{c3, s3}\n"
     ]
    },
    {
     "data": {
      "text/plain": [
       "[None, None, None, None, None]"
      ]
     },
     "execution_count": 22,
     "metadata": {},
     "output_type": "execute_result"
    }
   ],
   "source": [
    "[print(ii.free_symbols) for ii in forward_kinematics]"
   ]
  },
  {
   "cell_type": "code",
   "execution_count": 23,
   "id": "c1c59fa1-a809-4be9-afc7-5876f1fd76fd",
   "metadata": {},
   "outputs": [
    {
     "data": {
      "text/latex": [
       "$\\displaystyle 2.25 c_{2} c_{3}^{2} - 4.5 c_{2} c_{3} s_{3} + 3.0 c_{2} c_{3} - 6.0 c_{2} s_{3} - 2.25 c_{3} s_{3} - 3.0 s_{3}$"
      ],
      "text/plain": [
       "2.25*c2*c3**2 - 4.5*c2*c3*s3 + 3.0*c2*c3 - 6.0*c2*s3 - 2.25*c3*s3 - 3.0*s3"
      ]
     },
     "execution_count": 23,
     "metadata": {},
     "output_type": "execute_result"
    }
   ],
   "source": [
    "det_eq"
   ]
  },
  {
   "cell_type": "code",
   "execution_count": 24,
   "id": "0fda95cc-8a15-49e2-af75-4a46ace439bb",
   "metadata": {},
   "outputs": [],
   "source": [
    "res_x2y2_c2 = resultant(forward_kinematics[0], forward_kinematics[3], c2)"
   ]
  },
  {
   "cell_type": "code",
   "execution_count": 25,
   "id": "2314758a-4de1-482e-8075-bffb163a3f45",
   "metadata": {},
   "outputs": [],
   "source": [
    "res_z_c2 = resultant(forward_kinematics[1], forward_kinematics[3], c2)"
   ]
  },
  {
   "cell_type": "code",
   "execution_count": 26,
   "id": "f995e369-0158-4f36-a9ee-06931b10648b",
   "metadata": {},
   "outputs": [],
   "source": [
    "res_det_c2 = resultant(forward_kinematics[2], forward_kinematics[3], c2)"
   ]
  },
  {
   "cell_type": "code",
   "execution_count": 27,
   "id": "36e9092a-50b9-4dbd-a6e7-b6ee0b0f590e",
   "metadata": {},
   "outputs": [
    {
     "ename": "PolynomialDivisionFailed",
     "evalue": "couldn't reduce degree in a polynomial division algorithm when dividing [20.25*s3**2*c3**2 + 54.0*s3**2*c3 + 36.0*s3**2 - 20.25*s3*c3**3 - 54.0*s3*c3**2 - 36.0*s3*c3 + 5.0625*c3**4 + 13.5*c3**3 + 9.0*c3**2, 0.0, -15.1875*s3**2*c3**2 - 40.5*s3**2*c3 - 27.0*s3**2 + 20.25*s3*c3**3 + 54.0*s3*c3**2 + 36.0*s3*c3 - 5.0625*c3**4 - 13.5*c3**3 - 9.0*c3**2] by [-23646.2700805664*s3**10*c3**6 - 189170.160644531*s3**10*c3**5 - 630567.202148438*s3**10*c3**4 - 1121008.359375*s3**10*c3**3 - 1121008.359375*s3**10*c3**2 - 597871.125*s3**10*c3 - 132860.25*s3**10 + 86702.9902954102*s3**9*c3**7 + 609548.295410156*s3**9*c3**6 + 1639474.72558594*s3**9*c3**5 + 1868347.265625*s3**9*c3**4 + 124556.484375*s3**9*c3**3 - 1793613.375*s3**9*c3**2 - 1638609.75*s3**9*c3 - 472392.0*s3**9 - 126770.281265259*s3**8*c3**8 - 775947.973754883*s3**8*c3**7 + 28025.208984375*s3**8*c3**6*rho**2 - 1649400.32043457*s3**8*c3**6 + 224201.671875*s3**8*c3**5*rho**2 - 1054059.24902344*s3**8*c3**5 + 747338.90625*s3**8*c3**4*rho**2 + 627972.275390625*s3**8*c3**4 + 1328602.5*s3**8*c3**3*rho**2 - 188218.6875*s3**8*c3**3 + 1328602.5*s3**8*c3**2*rho**2 - 2965366.96875*s3**8*c3**2 + 708588.0*s3**8*c3*rho**2 - 3075468.75*s3**8*c3 + 157464.0*s3**8*rho**2 - 980869.5*s3**8 + 94585.0803222656*s3**7*c3**9 + 476428.552734375*s3**7*c3**8 - 93417.36328125*s3**7*c3**7*rho**2 + 718729.838745117*s3**7*c3**7 - 697516.3125*s3**7*c3**6*rho**2 + 340973.375976563*s3**7*c3**6 - 2092548.9375*s3**7*c3**5*rho**2 + 1470804.48632813*s3**7*c3**5 - 3100072.5*s3**7*c3**4*rho**2 + 5159406.375*s3**7*c3**4 - 2066715.0*s3**7*c3**3*rho**2 + 5818171.78125*s3**7*c3**3 + 1097327.25*s3**7*c3**2 + 734832.0*s3**7*c3*rho**2 - 2024068.5*s3**7*c3 + 279936.0*s3**7*rho**2 - 997272.0*s3**7 - 38096.7684631348*s3**6*c3**10 - 119107.138183594*s3**6*c3**9 + 126113.440429688*s3**6*c3**8*rho**2 + 2481.3987121582*s3**6*c3**8 + 884351.0390625*s3**6*c3**7*rho**2 - 174768.317138672*s3**6*c3**7 - 8303.765625*s3**6*c3**6*rho**4 + 2425737.53320313*s3**6*c3**6*rho**2 - 2202346.77593994*s3**6*c3**6 - 66430.125*s3**6*c3**5*rho**4 + 3130519.640625*s3**6*c3**5*rho**2 - 3789544.53955078*s3**6*c3**5 - 221433.75*s3**6*c3**4*rho**4 + 1651526.71875*s3**6*c3**4*rho**2 + 126920.750976563*s3**6*c3**4 - 393660.0*s3**6*c3**3*rho**4 + 88573.5*s3**6*c3**3*rho**2 + 5523234.328125*s3**6*c3**3 - 393660.0*s3**6*c3**2*rho**4 + 364135.5*s3**6*c3**2*rho**2 + 4465683.140625*s3**6*c3**2 - 209952.0*s3**6*c3*rho**4 + 796068.0*s3**6*c3*rho**2 + 510937.875*s3**6*c3 - 46656.0*s3**6*rho**4 + 332424.0*s3**6*rho**2 - 405506.25*s3**6 + 7882.09002685547*s3**5*c3**11 - 12261.0289306641*s3**5*c3**10 - 88746.4951171875*s3**5*c3**9*rho**2 - 129616.591552734*s3**5*c3**9 - 572959.828125*s3**5*c3**8*rho**2 + 15569.560546875*s3**5*c3**8 + 24911.296875*s3**5*c3**7*rho**4 - 1422019.86328125*s3**5*c3**7*rho**2 + 354499.43170166*s3**5*c3**7 + 199290.375*s3**5*c3**6*rho**4 - 1765934.15625*s3**5*c3**6*rho**2 - 1697860.57763672*s3**5*c3**6 + 664301.25*s3**5*c3**5*rho**4 - 1753017.1875*s3**5*c3**5*rho**2 - 6615390.94628906*s3**5*c3**5 + 1180980.0*s3**5*c3**4*rho**4 - 2932767.0*s3**5*c3**4*rho**2 - 7728960.515625*s3**5*c3**4 + 1180980.0*s3**5*c3**3*rho**4 - 4218723.0*s3**5*c3**3*rho**2 - 2483441.015625*s3**5*c3**3 + 629856.0*s3**5*c3**2*rho**4 - 3061800.0*s3**5*c3**2*rho**2 + 1439866.125*s3**5*c3**2 + 139968.0*s3**5*c3*rho**4 - 851472.0*s3**5*c3*rho**2 + 883730.25*s3**5*c3 - 656.840835571289*s3**4*c3**12 + 12261.0289306641*s3**4*c3**11 + 34447.6527099609*s3**4*c3**10*rho**2 + 40724.1318054199*s3**4*c3**10 + 188391.682617188*s3**4*c3**9*rho**2 + 59164.330078125*s3**4*c3**9 - 31139.12109375*s3**4*c3**8*rho**4 + 384568.145507813*s3**4*c3**8*rho**2 + 684403.823226929*s3**4*c3**8 - 249112.96875*s3**4*c3**7*rho**4 + 615862.6171875*s3**4*c3**7*rho**2 + 3092049.85144043*s3**4*c3**7 - 830376.5625*s3**4*c3**6*rho**4 + 1859120.859375*s3**4*c3**6*rho**2 + 5546929.85375977*s3**4*c3**6 - 1476225.0*s3**4*c3**5*rho**4 + 4487724.0*s3**4*c3**5*rho**2 + 3747996.87890625*s3**4*c3**5 - 1476225.0*s3**4*c3**4*rho**4 + 5739234.75*s3**4*c3**4*rho**2 - 897191.12109375*s3**4*c3**4 - 787320.0*s3**4*c3**3*rho**4 + 3643542.0*s3**4*c3**3*rho**2 - 2422307.53125*s3**4*c3**3 - 174960.0*s3**4*c3**2*rho**4 + 918540.0*s3**4*c3**2*rho**2 - 885780.5625*s3**4*c3**2 - 1751.57556152344*s3**3*c3**12 - 7006.30224609375*s3**3*c3**11*rho**2 - 21797.384765625*s3**3*c3**10*rho**2 - 32890.6966552734*s3**3*c3**10 + 20759.4140625*s3**3*c3**9*rho**4 - 8822.7509765625*s3**3*c3**9*rho**2 - 403251.618164063*s3**3*c3**9 + 166075.3125*s3**3*c3**8*rho**4 - 186834.7265625*s3**3*c3**8*rho**2 - 1300577.29101563*s3**3*c3**8 + 553584.375*s3**3*c3**7*rho**4 - 1268630.859375*s3**3*c3**7*rho**2 - 1575870.1875*s3**3*c3**7 + 984150.0*s3**3*c3**6*rho**4 - 3104993.25*s3**3*c3**6*rho**2 + 64584.84375*s3**3*c3**6 + 984150.0*s3**3*c3**5*rho**4 - 3725007.75*s3**3*c3**5*rho**2 + 1973220.75*s3**3*c3**5 + 524880.0*s3**3*c3**4*rho**4 - 2235114.0*s3**3*c3**4*rho**2 + 1783498.5*s3**3*c3**4 + 116640.0*s3**3*c3**3*rho**4 - 539460.0*s3**3*c3**3*rho**2 + 519048.0*s3**3*c3**3 + 583.858520507813*s3**2*c3**12*rho**2 - 1167.71704101563*s3**2*c3**12 - 3113.912109375*s3**2*c3**11*rho**2 + 9341.736328125*s3**2*c3**11 - 7784.7802734375*s3**2*c3**10*rho**4 - 13947.7313232422*s3**2*c3**10*rho**2 + 86021.8220214844*s3**2*c3**10 - 62278.2421875*s3**2*c3**9*rho**4 + 82172.6806640625*s3**2*c3**9*rho**2 + 184412.794921875*s3**2*c3**9 - 207594.140625*s3**2*c3**8*rho**4 + 532248.310546875*s3**2*c3**8*rho**2 - 31139.12109375*s3**2*c3**8 - 369056.25*s3**2*c3**7*rho**4 + 1198817.71875*s3**2*c3**7*rho**2 - 675372.9375*s3**2*c3**7 - 369056.25*s3**2*c3**6*rho**4 + 1359562.21875*s3**2*c3**6*rho**2 - 1065752.4375*s3**2*c3**6 - 196830.0*s3**2*c3**5*rho**4 + 784586.25*s3**2*c3**5*rho**2 - 711868.5*s3**2*c3**5 - 43740.0*s3**2*c3**4*rho**4 + 184072.5*s3**2*c3**4*rho**2 - 181521.0*s3**2*c3**4 + 778.47802734375*s3*c3**12*rho**2 - 1556.9560546875*s3*c3**12 + 1556.9560546875*s3*c3**11*rho**4 - 6227.82421875*s3*c3**11 + 12455.6484375*s3*c3**10*rho**4 - 29063.1796875*s3*c3**10*rho**2 + 8303.765625*s3*c3**10 + 41518.828125*s3*c3**9*rho**4 - 129169.6875*s3*c3**9*rho**2 + 92264.0625*s3*c3**9 + 73811.25*s3*c3**8*rho**4 - 258339.375*s3*c3**8*rho**2 + 221433.75*s3*c3**8 + 73811.25*s3*c3**7*rho**4 - 275562.0*s3*c3**7*rho**2 + 255879.0*s3*c3**7 + 39366.0*s3*c3**6*rho**4 - 153090.0*s3*c3**6*rho**2 + 148716.0*s3*c3**6 + 8748.0*s3*c3**5*rho**4 - 34992.0*s3*c3**5*rho**2 + 34992.0*s3*c3**5 - 129.746337890625*c3**12*rho**4 + 518.9853515625*c3**12*rho**2 - 518.9853515625*c3**12 - 1037.970703125*c3**11*rho**4 + 4151.8828125*c3**11*rho**2 - 4151.8828125*c3**11 - 3459.90234375*c3**10*rho**4 + 13839.609375*c3**10*rho**2 - 13839.609375*c3**10 - 6150.9375*c3**9*rho**4 + 24603.75*c3**9*rho**2 - 24603.75*c3**9 - 6150.9375*c3**8*rho**4 + 24603.75*c3**8*rho**2 - 24603.75*c3**8 - 3280.5*c3**7*rho**4 + 13122.0*c3**7*rho**2 - 13122.0*c3**7 - 729.0*c3**6*rho**4 + 2916.0*c3**6*rho**2 - 2916.0*c3**6]. This can happen when it's not possible to detect zero in the coefficient domain. The domain of computation is RR[s3,c3,rho]. Zero detection is guaranteed in this coefficient domain. This may indicate a bug in SymPy or the domain is user defined and doesn't implement zero detection properly.",
     "output_type": "error",
     "traceback": [
      "\u001b[0;31m---------------------------------------------------------------------------\u001b[0m",
      "\u001b[0;31mPolynomialDivisionFailed\u001b[0m                  Traceback (most recent call last)",
      "Cell \u001b[0;32mIn[27], line 1\u001b[0m\n\u001b[0;32m----> 1\u001b[0m res_x2y2_z_s2 \u001b[38;5;241m=\u001b[39m \u001b[43mresultant\u001b[49m\u001b[43m(\u001b[49m\u001b[43mres_x2y2_c2\u001b[49m\u001b[43m,\u001b[49m\u001b[43m \u001b[49m\u001b[43mres_det_c2\u001b[49m\u001b[43m,\u001b[49m\u001b[43m \u001b[49m\u001b[43ms2\u001b[49m\u001b[43m)\u001b[49m\n",
      "File \u001b[0;32m/usr/local/lib/python3.10/dist-packages/sympy/polys/polytools.py:5274\u001b[0m, in \u001b[0;36mresultant\u001b[0;34m(f, g, includePRS, *gens, **args)\u001b[0m\n\u001b[1;32m   5272\u001b[0m     result, R \u001b[38;5;241m=\u001b[39m F\u001b[38;5;241m.\u001b[39mresultant(G, includePRS\u001b[38;5;241m=\u001b[39mincludePRS)\n\u001b[1;32m   5273\u001b[0m \u001b[38;5;28;01melse\u001b[39;00m:\n\u001b[0;32m-> 5274\u001b[0m     result \u001b[38;5;241m=\u001b[39m \u001b[43mF\u001b[49m\u001b[38;5;241;43m.\u001b[39;49m\u001b[43mresultant\u001b[49m\u001b[43m(\u001b[49m\u001b[43mG\u001b[49m\u001b[43m)\u001b[49m\n\u001b[1;32m   5276\u001b[0m \u001b[38;5;28;01mif\u001b[39;00m \u001b[38;5;129;01mnot\u001b[39;00m opt\u001b[38;5;241m.\u001b[39mpolys:\n\u001b[1;32m   5277\u001b[0m     \u001b[38;5;28;01mif\u001b[39;00m includePRS:\n",
      "File \u001b[0;32m/usr/local/lib/python3.10/dist-packages/sympy/polys/polytools.py:2691\u001b[0m, in \u001b[0;36mPoly.resultant\u001b[0;34m(f, g, includePRS)\u001b[0m\n\u001b[1;32m   2689\u001b[0m         result, R \u001b[38;5;241m=\u001b[39m F\u001b[38;5;241m.\u001b[39mresultant(G, includePRS\u001b[38;5;241m=\u001b[39mincludePRS)\n\u001b[1;32m   2690\u001b[0m     \u001b[38;5;28;01melse\u001b[39;00m:\n\u001b[0;32m-> 2691\u001b[0m         result \u001b[38;5;241m=\u001b[39m \u001b[43mF\u001b[49m\u001b[38;5;241;43m.\u001b[39;49m\u001b[43mresultant\u001b[49m\u001b[43m(\u001b[49m\u001b[43mG\u001b[49m\u001b[43m)\u001b[49m\n\u001b[1;32m   2692\u001b[0m \u001b[38;5;28;01melse\u001b[39;00m:  \u001b[38;5;66;03m# pragma: no cover\u001b[39;00m\n\u001b[1;32m   2693\u001b[0m     \u001b[38;5;28;01mraise\u001b[39;00m OperationNotSupported(f, \u001b[38;5;124m'\u001b[39m\u001b[38;5;124mresultant\u001b[39m\u001b[38;5;124m'\u001b[39m)\n",
      "File \u001b[0;32m/usr/local/lib/python3.10/dist-packages/sympy/polys/polyclasses.py:674\u001b[0m, in \u001b[0;36mDMP.resultant\u001b[0;34m(f, g, includePRS)\u001b[0m\n\u001b[1;32m    672\u001b[0m     res, R \u001b[38;5;241m=\u001b[39m dmp_resultant(F, G, lev, dom, includePRS\u001b[38;5;241m=\u001b[39mincludePRS)\n\u001b[1;32m    673\u001b[0m     \u001b[38;5;28;01mreturn\u001b[39;00m per(res, kill\u001b[38;5;241m=\u001b[39m\u001b[38;5;28;01mTrue\u001b[39;00m), \u001b[38;5;28mlist\u001b[39m(\u001b[38;5;28mmap\u001b[39m(per, R))\n\u001b[0;32m--> 674\u001b[0m \u001b[38;5;28;01mreturn\u001b[39;00m per(\u001b[43mdmp_resultant\u001b[49m\u001b[43m(\u001b[49m\u001b[43mF\u001b[49m\u001b[43m,\u001b[49m\u001b[43m \u001b[49m\u001b[43mG\u001b[49m\u001b[43m,\u001b[49m\u001b[43m \u001b[49m\u001b[43mlev\u001b[49m\u001b[43m,\u001b[49m\u001b[43m \u001b[49m\u001b[43mdom\u001b[49m\u001b[43m)\u001b[49m, kill\u001b[38;5;241m=\u001b[39m\u001b[38;5;28;01mTrue\u001b[39;00m)\n",
      "File \u001b[0;32m/usr/local/lib/python3.10/dist-packages/sympy/polys/euclidtools.py:788\u001b[0m, in \u001b[0;36mdmp_resultant\u001b[0;34m(f, g, u, K, includePRS)\u001b[0m\n\u001b[1;32m    771\u001b[0m \u001b[38;5;250m\u001b[39m\u001b[38;5;124;03m\"\"\"\u001b[39;00m\n\u001b[1;32m    772\u001b[0m \u001b[38;5;124;03mComputes resultant of two polynomials in `K[X]`.\u001b[39;00m\n\u001b[1;32m    773\u001b[0m \n\u001b[0;32m   (...)\u001b[0m\n\u001b[1;32m    785\u001b[0m \n\u001b[1;32m    786\u001b[0m \u001b[38;5;124;03m\"\"\"\u001b[39;00m\n\u001b[1;32m    787\u001b[0m \u001b[38;5;28;01mif\u001b[39;00m \u001b[38;5;129;01mnot\u001b[39;00m u:\n\u001b[0;32m--> 788\u001b[0m     \u001b[38;5;28;01mreturn\u001b[39;00m \u001b[43mdup_resultant\u001b[49m\u001b[43m(\u001b[49m\u001b[43mf\u001b[49m\u001b[43m,\u001b[49m\u001b[43m \u001b[49m\u001b[43mg\u001b[49m\u001b[43m,\u001b[49m\u001b[43m \u001b[49m\u001b[43mK\u001b[49m\u001b[43m,\u001b[49m\u001b[43m \u001b[49m\u001b[43mincludePRS\u001b[49m\u001b[38;5;241;43m=\u001b[39;49m\u001b[43mincludePRS\u001b[49m\u001b[43m)\u001b[49m\n\u001b[1;32m    790\u001b[0m \u001b[38;5;28;01mif\u001b[39;00m includePRS:\n\u001b[1;32m    791\u001b[0m     \u001b[38;5;28;01mreturn\u001b[39;00m dmp_prs_resultant(f, g, u, K)\n",
      "File \u001b[0;32m/usr/local/lib/python3.10/dist-packages/sympy/polys/euclidtools.py:446\u001b[0m, in \u001b[0;36mdup_resultant\u001b[0;34m(f, g, K, includePRS)\u001b[0m\n\u001b[1;32m    444\u001b[0m \u001b[38;5;28;01mif\u001b[39;00m includePRS:\n\u001b[1;32m    445\u001b[0m     \u001b[38;5;28;01mreturn\u001b[39;00m dup_prs_resultant(f, g, K)\n\u001b[0;32m--> 446\u001b[0m \u001b[38;5;28;01mreturn\u001b[39;00m \u001b[43mdup_prs_resultant\u001b[49m\u001b[43m(\u001b[49m\u001b[43mf\u001b[49m\u001b[43m,\u001b[49m\u001b[43m \u001b[49m\u001b[43mg\u001b[49m\u001b[43m,\u001b[49m\u001b[43m \u001b[49m\u001b[43mK\u001b[49m\u001b[43m)\u001b[49m[\u001b[38;5;241m0\u001b[39m]\n",
      "File \u001b[0;32m/usr/local/lib/python3.10/dist-packages/sympy/polys/euclidtools.py:422\u001b[0m, in \u001b[0;36mdup_prs_resultant\u001b[0;34m(f, g, K)\u001b[0m\n\u001b[1;32m    419\u001b[0m \u001b[38;5;28;01mif\u001b[39;00m \u001b[38;5;129;01mnot\u001b[39;00m f \u001b[38;5;129;01mor\u001b[39;00m \u001b[38;5;129;01mnot\u001b[39;00m g:\n\u001b[1;32m    420\u001b[0m     \u001b[38;5;28;01mreturn\u001b[39;00m (K\u001b[38;5;241m.\u001b[39mzero, [])\n\u001b[0;32m--> 422\u001b[0m R, S \u001b[38;5;241m=\u001b[39m \u001b[43mdup_inner_subresultants\u001b[49m\u001b[43m(\u001b[49m\u001b[43mf\u001b[49m\u001b[43m,\u001b[49m\u001b[43m \u001b[49m\u001b[43mg\u001b[49m\u001b[43m,\u001b[49m\u001b[43m \u001b[49m\u001b[43mK\u001b[49m\u001b[43m)\u001b[49m\n\u001b[1;32m    424\u001b[0m \u001b[38;5;28;01mif\u001b[39;00m dup_degree(R[\u001b[38;5;241m-\u001b[39m\u001b[38;5;241m1\u001b[39m]) \u001b[38;5;241m>\u001b[39m \u001b[38;5;241m0\u001b[39m:\n\u001b[1;32m    425\u001b[0m     \u001b[38;5;28;01mreturn\u001b[39;00m (K\u001b[38;5;241m.\u001b[39mzero, R)\n",
      "File \u001b[0;32m/usr/local/lib/python3.10/dist-packages/sympy/polys/euclidtools.py:372\u001b[0m, in \u001b[0;36mdup_inner_subresultants\u001b[0;34m(f, g, K)\u001b[0m\n\u001b[1;32m    368\u001b[0m f, g, m, d \u001b[38;5;241m=\u001b[39m g, h, k, m \u001b[38;5;241m-\u001b[39m k\n\u001b[1;32m    370\u001b[0m b \u001b[38;5;241m=\u001b[39m \u001b[38;5;241m-\u001b[39mlc \u001b[38;5;241m*\u001b[39m c\u001b[38;5;241m*\u001b[39m\u001b[38;5;241m*\u001b[39md\n\u001b[0;32m--> 372\u001b[0m h \u001b[38;5;241m=\u001b[39m \u001b[43mdup_prem\u001b[49m\u001b[43m(\u001b[49m\u001b[43mf\u001b[49m\u001b[43m,\u001b[49m\u001b[43m \u001b[49m\u001b[43mg\u001b[49m\u001b[43m,\u001b[49m\u001b[43m \u001b[49m\u001b[43mK\u001b[49m\u001b[43m)\u001b[49m\n\u001b[1;32m    373\u001b[0m h \u001b[38;5;241m=\u001b[39m dup_quo_ground(h, b, K)\n\u001b[1;32m    375\u001b[0m lc \u001b[38;5;241m=\u001b[39m dup_LC(g, K)\n",
      "File \u001b[0;32m/usr/local/lib/python3.10/dist-packages/sympy/polys/densearith.py:1093\u001b[0m, in \u001b[0;36mdup_prem\u001b[0;34m(f, g, K)\u001b[0m\n\u001b[1;32m   1091\u001b[0m         \u001b[38;5;28;01mbreak\u001b[39;00m\n\u001b[1;32m   1092\u001b[0m     \u001b[38;5;28;01melif\u001b[39;00m \u001b[38;5;129;01mnot\u001b[39;00m (dr \u001b[38;5;241m<\u001b[39m _dr):\n\u001b[0;32m-> 1093\u001b[0m         \u001b[38;5;28;01mraise\u001b[39;00m PolynomialDivisionFailed(f, g, K)\n\u001b[1;32m   1095\u001b[0m \u001b[38;5;28;01mreturn\u001b[39;00m dup_mul_ground(r, lc_g\u001b[38;5;241m*\u001b[39m\u001b[38;5;241m*\u001b[39mN, K)\n",
      "\u001b[0;31mPolynomialDivisionFailed\u001b[0m: couldn't reduce degree in a polynomial division algorithm when dividing [20.25*s3**2*c3**2 + 54.0*s3**2*c3 + 36.0*s3**2 - 20.25*s3*c3**3 - 54.0*s3*c3**2 - 36.0*s3*c3 + 5.0625*c3**4 + 13.5*c3**3 + 9.0*c3**2, 0.0, -15.1875*s3**2*c3**2 - 40.5*s3**2*c3 - 27.0*s3**2 + 20.25*s3*c3**3 + 54.0*s3*c3**2 + 36.0*s3*c3 - 5.0625*c3**4 - 13.5*c3**3 - 9.0*c3**2] by [-23646.2700805664*s3**10*c3**6 - 189170.160644531*s3**10*c3**5 - 630567.202148438*s3**10*c3**4 - 1121008.359375*s3**10*c3**3 - 1121008.359375*s3**10*c3**2 - 597871.125*s3**10*c3 - 132860.25*s3**10 + 86702.9902954102*s3**9*c3**7 + 609548.295410156*s3**9*c3**6 + 1639474.72558594*s3**9*c3**5 + 1868347.265625*s3**9*c3**4 + 124556.484375*s3**9*c3**3 - 1793613.375*s3**9*c3**2 - 1638609.75*s3**9*c3 - 472392.0*s3**9 - 126770.281265259*s3**8*c3**8 - 775947.973754883*s3**8*c3**7 + 28025.208984375*s3**8*c3**6*rho**2 - 1649400.32043457*s3**8*c3**6 + 224201.671875*s3**8*c3**5*rho**2 - 1054059.24902344*s3**8*c3**5 + 747338.90625*s3**8*c3**4*rho**2 + 627972.275390625*s3**8*c3**4 + 1328602.5*s3**8*c3**3*rho**2 - 188218.6875*s3**8*c3**3 + 1328602.5*s3**8*c3**2*rho**2 - 2965366.96875*s3**8*c3**2 + 708588.0*s3**8*c3*rho**2 - 3075468.75*s3**8*c3 + 157464.0*s3**8*rho**2 - 980869.5*s3**8 + 94585.0803222656*s3**7*c3**9 + 476428.552734375*s3**7*c3**8 - 93417.36328125*s3**7*c3**7*rho**2 + 718729.838745117*s3**7*c3**7 - 697516.3125*s3**7*c3**6*rho**2 + 340973.375976563*s3**7*c3**6 - 2092548.9375*s3**7*c3**5*rho**2 + 1470804.48632813*s3**7*c3**5 - 3100072.5*s3**7*c3**4*rho**2 + 5159406.375*s3**7*c3**4 - 2066715.0*s3**7*c3**3*rho**2 + 5818171.78125*s3**7*c3**3 + 1097327.25*s3**7*c3**2 + 734832.0*s3**7*c3*rho**2 - 2024068.5*s3**7*c3 + 279936.0*s3**7*rho**2 - 997272.0*s3**7 - 38096.7684631348*s3**6*c3**10 - 119107.138183594*s3**6*c3**9 + 126113.440429688*s3**6*c3**8*rho**2 + 2481.3987121582*s3**6*c3**8 + 884351.0390625*s3**6*c3**7*rho**2 - 174768.317138672*s3**6*c3**7 - 8303.765625*s3**6*c3**6*rho**4 + 2425737.53320313*s3**6*c3**6*rho**2 - 2202346.77593994*s3**6*c3**6 - 66430.125*s3**6*c3**5*rho**4 + 3130519.640625*s3**6*c3**5*rho**2 - 3789544.53955078*s3**6*c3**5 - 221433.75*s3**6*c3**4*rho**4 + 1651526.71875*s3**6*c3**4*rho**2 + 126920.750976563*s3**6*c3**4 - 393660.0*s3**6*c3**3*rho**4 + 88573.5*s3**6*c3**3*rho**2 + 5523234.328125*s3**6*c3**3 - 393660.0*s3**6*c3**2*rho**4 + 364135.5*s3**6*c3**2*rho**2 + 4465683.140625*s3**6*c3**2 - 209952.0*s3**6*c3*rho**4 + 796068.0*s3**6*c3*rho**2 + 510937.875*s3**6*c3 - 46656.0*s3**6*rho**4 + 332424.0*s3**6*rho**2 - 405506.25*s3**6 + 7882.09002685547*s3**5*c3**11 - 12261.0289306641*s3**5*c3**10 - 88746.4951171875*s3**5*c3**9*rho**2 - 129616.591552734*s3**5*c3**9 - 572959.828125*s3**5*c3**8*rho**2 + 15569.560546875*s3**5*c3**8 + 24911.296875*s3**5*c3**7*rho**4 - 1422019.86328125*s3**5*c3**7*rho**2 + 354499.43170166*s3**5*c3**7 + 199290.375*s3**5*c3**6*rho**4 - 1765934.15625*s3**5*c3**6*rho**2 - 1697860.57763672*s3**5*c3**6 + 664301.25*s3**5*c3**5*rho**4 - 1753017.1875*s3**5*c3**5*rho**2 - 6615390.94628906*s3**5*c3**5 + 1180980.0*s3**5*c3**4*rho**4 - 2932767.0*s3**5*c3**4*rho**2 - 7728960.515625*s3**5*c3**4 + 1180980.0*s3**5*c3**3*rho**4 - 4218723.0*s3**5*c3**3*rho**2 - 2483441.015625*s3**5*c3**3 + 629856.0*s3**5*c3**2*rho**4 - 3061800.0*s3**5*c3**2*rho**2 + 1439866.125*s3**5*c3**2 + 139968.0*s3**5*c3*rho**4 - 851472.0*s3**5*c3*rho**2 + 883730.25*s3**5*c3 - 656.840835571289*s3**4*c3**12 + 12261.0289306641*s3**4*c3**11 + 34447.6527099609*s3**4*c3**10*rho**2 + 40724.1318054199*s3**4*c3**10 + 188391.682617188*s3**4*c3**9*rho**2 + 59164.330078125*s3**4*c3**9 - 31139.12109375*s3**4*c3**8*rho**4 + 384568.145507813*s3**4*c3**8*rho**2 + 684403.823226929*s3**4*c3**8 - 249112.96875*s3**4*c3**7*rho**4 + 615862.6171875*s3**4*c3**7*rho**2 + 3092049.85144043*s3**4*c3**7 - 830376.5625*s3**4*c3**6*rho**4 + 1859120.859375*s3**4*c3**6*rho**2 + 5546929.85375977*s3**4*c3**6 - 1476225.0*s3**4*c3**5*rho**4 + 4487724.0*s3**4*c3**5*rho**2 + 3747996.87890625*s3**4*c3**5 - 1476225.0*s3**4*c3**4*rho**4 + 5739234.75*s3**4*c3**4*rho**2 - 897191.12109375*s3**4*c3**4 - 787320.0*s3**4*c3**3*rho**4 + 3643542.0*s3**4*c3**3*rho**2 - 2422307.53125*s3**4*c3**3 - 174960.0*s3**4*c3**2*rho**4 + 918540.0*s3**4*c3**2*rho**2 - 885780.5625*s3**4*c3**2 - 1751.57556152344*s3**3*c3**12 - 7006.30224609375*s3**3*c3**11*rho**2 - 21797.384765625*s3**3*c3**10*rho**2 - 32890.6966552734*s3**3*c3**10 + 20759.4140625*s3**3*c3**9*rho**4 - 8822.7509765625*s3**3*c3**9*rho**2 - 403251.618164063*s3**3*c3**9 + 166075.3125*s3**3*c3**8*rho**4 - 186834.7265625*s3**3*c3**8*rho**2 - 1300577.29101563*s3**3*c3**8 + 553584.375*s3**3*c3**7*rho**4 - 1268630.859375*s3**3*c3**7*rho**2 - 1575870.1875*s3**3*c3**7 + 984150.0*s3**3*c3**6*rho**4 - 3104993.25*s3**3*c3**6*rho**2 + 64584.84375*s3**3*c3**6 + 984150.0*s3**3*c3**5*rho**4 - 3725007.75*s3**3*c3**5*rho**2 + 1973220.75*s3**3*c3**5 + 524880.0*s3**3*c3**4*rho**4 - 2235114.0*s3**3*c3**4*rho**2 + 1783498.5*s3**3*c3**4 + 116640.0*s3**3*c3**3*rho**4 - 539460.0*s3**3*c3**3*rho**2 + 519048.0*s3**3*c3**3 + 583.858520507813*s3**2*c3**12*rho**2 - 1167.71704101563*s3**2*c3**12 - 3113.912109375*s3**2*c3**11*rho**2 + 9341.736328125*s3**2*c3**11 - 7784.7802734375*s3**2*c3**10*rho**4 - 13947.7313232422*s3**2*c3**10*rho**2 + 86021.8220214844*s3**2*c3**10 - 62278.2421875*s3**2*c3**9*rho**4 + 82172.6806640625*s3**2*c3**9*rho**2 + 184412.794921875*s3**2*c3**9 - 207594.140625*s3**2*c3**8*rho**4 + 532248.310546875*s3**2*c3**8*rho**2 - 31139.12109375*s3**2*c3**8 - 369056.25*s3**2*c3**7*rho**4 + 1198817.71875*s3**2*c3**7*rho**2 - 675372.9375*s3**2*c3**7 - 369056.25*s3**2*c3**6*rho**4 + 1359562.21875*s3**2*c3**6*rho**2 - 1065752.4375*s3**2*c3**6 - 196830.0*s3**2*c3**5*rho**4 + 784586.25*s3**2*c3**5*rho**2 - 711868.5*s3**2*c3**5 - 43740.0*s3**2*c3**4*rho**4 + 184072.5*s3**2*c3**4*rho**2 - 181521.0*s3**2*c3**4 + 778.47802734375*s3*c3**12*rho**2 - 1556.9560546875*s3*c3**12 + 1556.9560546875*s3*c3**11*rho**4 - 6227.82421875*s3*c3**11 + 12455.6484375*s3*c3**10*rho**4 - 29063.1796875*s3*c3**10*rho**2 + 8303.765625*s3*c3**10 + 41518.828125*s3*c3**9*rho**4 - 129169.6875*s3*c3**9*rho**2 + 92264.0625*s3*c3**9 + 73811.25*s3*c3**8*rho**4 - 258339.375*s3*c3**8*rho**2 + 221433.75*s3*c3**8 + 73811.25*s3*c3**7*rho**4 - 275562.0*s3*c3**7*rho**2 + 255879.0*s3*c3**7 + 39366.0*s3*c3**6*rho**4 - 153090.0*s3*c3**6*rho**2 + 148716.0*s3*c3**6 + 8748.0*s3*c3**5*rho**4 - 34992.0*s3*c3**5*rho**2 + 34992.0*s3*c3**5 - 129.746337890625*c3**12*rho**4 + 518.9853515625*c3**12*rho**2 - 518.9853515625*c3**12 - 1037.970703125*c3**11*rho**4 + 4151.8828125*c3**11*rho**2 - 4151.8828125*c3**11 - 3459.90234375*c3**10*rho**4 + 13839.609375*c3**10*rho**2 - 13839.609375*c3**10 - 6150.9375*c3**9*rho**4 + 24603.75*c3**9*rho**2 - 24603.75*c3**9 - 6150.9375*c3**8*rho**4 + 24603.75*c3**8*rho**2 - 24603.75*c3**8 - 3280.5*c3**7*rho**4 + 13122.0*c3**7*rho**2 - 13122.0*c3**7 - 729.0*c3**6*rho**4 + 2916.0*c3**6*rho**2 - 2916.0*c3**6]. This can happen when it's not possible to detect zero in the coefficient domain. The domain of computation is RR[s3,c3,rho]. Zero detection is guaranteed in this coefficient domain. This may indicate a bug in SymPy or the domain is user defined and doesn't implement zero detection properly."
     ]
    }
   ],
   "source": [
    "res_x2y2_z_s2 = resultant(res_x2y2_c2, res_det_c2, s2)"
   ]
  },
  {
   "cell_type": "code",
   "execution_count": null,
   "id": "af32d7d5-c000-46a1-9f96-5d58e6eb120b",
   "metadata": {},
   "outputs": [],
   "source": [
    "res_x2y2_c2.is_algebraic_expr()"
   ]
  },
  {
   "cell_type": "code",
   "execution_count": null,
   "id": "8594cdb7-a317-411a-868b-58721508eae7",
   "metadata": {},
   "outputs": [],
   "source": [
    "res_det_c2"
   ]
  },
  {
   "cell_type": "code",
   "execution_count": null,
   "id": "0fa531c0-e674-47b3-a580-77a7c786f7b6",
   "metadata": {},
   "outputs": [],
   "source": []
  }
 ],
 "metadata": {
  "kernelspec": {
   "display_name": "Python 3 (ipykernel)",
   "language": "python",
   "name": "python3"
  },
  "language_info": {
   "codemirror_mode": {
    "name": "ipython",
    "version": 3
   },
   "file_extension": ".py",
   "mimetype": "text/x-python",
   "name": "python",
   "nbconvert_exporter": "python",
   "pygments_lexer": "ipython3",
   "version": "3.10.12"
  }
 },
 "nbformat": 4,
 "nbformat_minor": 5
}
