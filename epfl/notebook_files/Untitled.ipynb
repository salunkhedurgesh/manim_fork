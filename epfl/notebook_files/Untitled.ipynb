{
 "cells": [
  {
   "cell_type": "code",
   "execution_count": 11,
   "id": "00afb522-2a06-4919-b5d4-833d38a24b8d",
   "metadata": {},
   "outputs": [],
   "source": [
    "from sympy import *\n",
    "import numpy as np\n",
    "import matplotlib.pyplot as plt"
   ]
  },
  {
   "cell_type": "code",
   "execution_count": 12,
   "id": "ba5edb0b-55f8-4647-97f5-c995501cb5d2",
   "metadata": {},
   "outputs": [],
   "source": [
    "alpha, r, u, phi, n, s = var('alpha, r, u, phi, n, s')"
   ]
  },
  {
   "cell_type": "code",
   "execution_count": 13,
   "id": "62ab970e-21d8-4458-937a-c4b859edcd33",
   "metadata": {},
   "outputs": [],
   "source": [
    "rot_mat = Matrix([[cos(alpha), -sin(alpha), 0], [sin(alpha), cos(alpha), 0], [0, 0, 1]])"
   ]
  },
  {
   "cell_type": "code",
   "execution_count": 14,
   "id": "271b1bd8-f419-4d14-ae19-9d36db67a9fe",
   "metadata": {},
   "outputs": [
    {
     "data": {
      "text/latex": [
       "$\\displaystyle \\left[\\begin{matrix}\\cos{\\left(\\alpha \\right)} & - \\sin{\\left(\\alpha \\right)} & 0\\\\\\sin{\\left(\\alpha \\right)} & \\cos{\\left(\\alpha \\right)} & 0\\\\0 & 0 & 1\\end{matrix}\\right]$"
      ],
      "text/plain": [
       "Matrix([\n",
       "[cos(alpha), -sin(alpha), 0],\n",
       "[sin(alpha),  cos(alpha), 0],\n",
       "[         0,           0, 1]])"
      ]
     },
     "execution_count": 14,
     "metadata": {},
     "output_type": "execute_result"
    }
   ],
   "source": [
    "rot_mat"
   ]
  },
  {
   "cell_type": "code",
   "execution_count": 15,
   "id": "f8cf295e-e44f-45b7-8e0c-09be06fc8b5f",
   "metadata": {},
   "outputs": [],
   "source": [
    "vector = Array([0, r * cos(phi), r * sin(phi)])"
   ]
  },
  {
   "cell_type": "code",
   "execution_count": 16,
   "id": "b7427948-9ece-4803-b06a-1dd987f6e0bc",
   "metadata": {},
   "outputs": [
    {
     "data": {
      "text/latex": [
       "$\\displaystyle \\left[\\begin{matrix}0 & r \\cos{\\left(\\phi \\right)} & r \\sin{\\left(\\phi \\right)}\\end{matrix}\\right]$"
      ],
      "text/plain": [
       "[0, r*cos(phi), r*sin(phi)]"
      ]
     },
     "execution_count": 16,
     "metadata": {},
     "output_type": "execute_result"
    }
   ],
   "source": [
    "vector"
   ]
  },
  {
   "cell_type": "code",
   "execution_count": 17,
   "id": "d6534002-ea23-4edb-afe7-8566af0e295a",
   "metadata": {},
   "outputs": [],
   "source": [
    "rot_vec = rot_mat * Matrix(vector)"
   ]
  },
  {
   "cell_type": "code",
   "execution_count": 18,
   "id": "cc347691-bfa4-44dc-9fe2-3be6abdc41ac",
   "metadata": {},
   "outputs": [
    {
     "data": {
      "text/latex": [
       "$\\displaystyle \\left[\\begin{matrix}- r \\sin{\\left(\\alpha \\right)} \\cos{\\left(\\phi \\right)}\\\\r \\cos{\\left(\\alpha \\right)} \\cos{\\left(\\phi \\right)}\\\\r \\sin{\\left(\\phi \\right)}\\end{matrix}\\right]$"
      ],
      "text/plain": [
       "Matrix([\n",
       "[-r*sin(alpha)*cos(phi)],\n",
       "[ r*cos(alpha)*cos(phi)],\n",
       "[            r*sin(phi)]])"
      ]
     },
     "execution_count": 18,
     "metadata": {},
     "output_type": "execute_result"
    }
   ],
   "source": [
    "rot_vec"
   ]
  },
  {
   "cell_type": "code",
   "execution_count": 19,
   "id": "03d2142d-a725-4af9-8d12-2bf1e841fe5b",
   "metadata": {},
   "outputs": [],
   "source": [
    "rot_vec = rot_vec + Matrix([u, s * u ** (n), 0])"
   ]
  },
  {
   "cell_type": "code",
   "execution_count": 20,
   "id": "e3f7584e-c1b5-456f-b94f-ab4dddc14b29",
   "metadata": {},
   "outputs": [
    {
     "name": "stdout",
     "output_type": "stream",
     "text": [
      "-n*r*s*u*(n - 1)*cos(phi)/sqrt(n**2*s**2*u**2*(n - 1)**2 + 1) + u\n",
      "r*cos(phi)/sqrt(n**2*s**2*u**2*(n - 1)**2 + 1) + s*u**n\n",
      "r*sin(phi)\n"
     ]
    }
   ],
   "source": [
    "for ele in rot_vec:\n",
    "    print(ele.subs(alpha, atan(s * n * u * (n - 1))))"
   ]
  },
  {
   "cell_type": "code",
   "execution_count": 21,
   "id": "f0748bc3-eaf8-4cea-aa12-91cf5fced16f",
   "metadata": {},
   "outputs": [
    {
     "name": "stdout",
     "output_type": "stream",
     "text": [
      "-sqrt(2)*r*cos(phi)/2 + u\n",
      "sqrt(2)*r*cos(phi)/2 + s*u\n",
      "r*sin(phi)\n"
     ]
    }
   ],
   "source": [
    "for ele in rot_vec:\n",
    "    temp = ele.subs(alpha, atan((u ** ((1 - n)/n)) / n))\n",
    "    print(temp.subs(n, 1))"
   ]
  },
  {
   "cell_type": "code",
   "execution_count": 22,
   "id": "9b46f9cd-7132-444c-9972-873fac276751",
   "metadata": {},
   "outputs": [
    {
     "data": {
      "text/latex": [
       "$\\displaystyle \\left[\\begin{matrix}- r \\sin{\\left(\\alpha \\right)} \\cos{\\left(\\phi \\right)} + 2 u\\\\r \\cos{\\left(\\alpha \\right)} \\cos{\\left(\\phi \\right)} + 2 s u^{n}\\\\r \\sin{\\left(\\phi \\right)}\\end{matrix}\\right]$"
      ],
      "text/plain": [
       "Matrix([\n",
       "[    -r*sin(alpha)*cos(phi) + 2*u],\n",
       "[r*cos(alpha)*cos(phi) + 2*s*u**n],\n",
       "[                      r*sin(phi)]])"
      ]
     },
     "execution_count": 22,
     "metadata": {},
     "output_type": "execute_result"
    }
   ],
   "source": [
    "rot_vec + Matrix([u, s * u ** (n), 0])"
   ]
  },
  {
   "cell_type": "code",
   "execution_count": 23,
   "id": "01a70728-b64e-45fc-bcf6-a4f15b28db81",
   "metadata": {},
   "outputs": [
    {
     "name": "stdout",
     "output_type": "stream",
     "text": [
      "u - r*u**((1 - n)/n)*cos(phi)/(n*sqrt(1 + u**(2*(1 - n)/n)/n**2))\n"
     ]
    }
   ],
   "source": [
    "print(rot_vec[0].subs(alpha, atan((u ** ((1 - n)/n)) / n)))"
   ]
  },
  {
   "cell_type": "code",
   "execution_count": 24,
   "id": "807d15d7-8c12-4a06-a282-c995d5c16183",
   "metadata": {},
   "outputs": [
    {
     "name": "stdout",
     "output_type": "stream",
     "text": [
      "r*cos(phi)/sqrt(1 + u**(2*(1 - n)/n)/n**2) + s*u**n\n"
     ]
    }
   ],
   "source": [
    "print(rot_vec[1].subs(alpha, atan((u ** ((1 - n)/n)) / n)))"
   ]
  },
  {
   "cell_type": "code",
   "execution_count": 25,
   "id": "bacdb665-d49b-4a5b-a6e6-a30135e3deaf",
   "metadata": {},
   "outputs": [
    {
     "name": "stdout",
     "output_type": "stream",
     "text": [
      "r*sin(phi)\n"
     ]
    }
   ],
   "source": [
    "print(rot_vec[2].subs(alpha, atan((u ** ((1 - n)/n)) / n)))"
   ]
  },
  {
   "cell_type": "code",
   "execution_count": 58,
   "id": "dcc7cda6-e119-443e-93a6-693a9886083f",
   "metadata": {},
   "outputs": [
    {
     "data": {
      "text/latex": [
       "$\\displaystyle - \\frac{r u^{\\frac{1 - n}{n}} \\cos{\\left(\\phi \\right)}}{2 \\sqrt{\\frac{u^{\\frac{2 \\cdot \\left(1 - n\\right)}{n}}}{4} + 1}}$"
      ],
      "text/plain": [
       "-r*u**((1 - n)/n)*cos(phi)/(2*sqrt(u**(2*(1 - n)/n)/4 + 1))"
      ]
     },
     "execution_count": 58,
     "metadata": {},
     "output_type": "execute_result"
    }
   ],
   "source": [
    "rot_vec[0].subs(alpha, atan((u ** ((1 - n)/n)) / 2))"
   ]
  },
  {
   "cell_type": "code",
   "execution_count": 59,
   "id": "19a170f8-a4dd-43be-b40d-7c3d3e7c4735",
   "metadata": {},
   "outputs": [
    {
     "data": {
      "text/latex": [
       "$\\displaystyle \\frac{r \\cos{\\left(\\phi \\right)}}{\\sqrt{\\frac{u^{\\frac{2 \\cdot \\left(1 - n\\right)}{n}}}{4} + 1}}$"
      ],
      "text/plain": [
       "r*cos(phi)/sqrt(u**(2*(1 - n)/n)/4 + 1)"
      ]
     },
     "execution_count": 59,
     "metadata": {},
     "output_type": "execute_result"
    }
   ],
   "source": [
    "rot_vec[1].subs(alpha, atan((u ** ((1 - n)/n)) / 2))"
   ]
  },
  {
   "cell_type": "code",
   "execution_count": 60,
   "id": "29f7a680-85e2-40cf-bb9c-088a2c42de37",
   "metadata": {},
   "outputs": [],
   "source": [
    "x, y, z = var('x, y, z')"
   ]
  },
  {
   "cell_type": "code",
   "execution_count": 62,
   "id": "07ce059e-73e9-48f3-aa79-16ce6e6c0f03",
   "metadata": {},
   "outputs": [],
   "source": [
    "vector_expr = rot_mat * Matrix([x, y, z])"
   ]
  },
  {
   "cell_type": "code",
   "execution_count": 63,
   "id": "c144c5e4-1019-4d41-b60f-7878c106649d",
   "metadata": {},
   "outputs": [
    {
     "data": {
      "text/latex": [
       "$\\displaystyle \\left[\\begin{matrix}x \\cos{\\left(\\alpha \\right)} - y \\sin{\\left(\\alpha \\right)}\\\\x \\sin{\\left(\\alpha \\right)} + y \\cos{\\left(\\alpha \\right)}\\\\z\\end{matrix}\\right]$"
      ],
      "text/plain": [
       "Matrix([\n",
       "[x*cos(alpha) - y*sin(alpha)],\n",
       "[x*sin(alpha) + y*cos(alpha)],\n",
       "[                          z]])"
      ]
     },
     "execution_count": 63,
     "metadata": {},
     "output_type": "execute_result"
    }
   ],
   "source": [
    "vector_expr"
   ]
  },
  {
   "cell_type": "code",
   "execution_count": 64,
   "id": "dfefe3d3-389f-4577-8678-ccfaeb1ed954",
   "metadata": {},
   "outputs": [
    {
     "data": {
      "text/latex": [
       "$\\displaystyle \\left[\\begin{matrix}0.707106781186548 x - 0.707106781186547 y\\\\0.707106781186547 x + 0.707106781186548 y\\\\z\\end{matrix}\\right]$"
      ],
      "text/plain": [
       "Matrix([\n",
       "[0.707106781186548*x - 0.707106781186547*y],\n",
       "[0.707106781186547*x + 0.707106781186548*y],\n",
       "[                                        z]])"
      ]
     },
     "execution_count": 64,
     "metadata": {},
     "output_type": "execute_result"
    }
   ],
   "source": [
    "vector_expr.subs(alpha, np.pi / 4)"
   ]
  },
  {
   "cell_type": "code",
   "execution_count": 85,
   "id": "20ae3269-867d-4d98-9b02-1fb68fb61b11",
   "metadata": {},
   "outputs": [],
   "source": [
    "t = np.arange(-5., 5., 0.2)"
   ]
  },
  {
   "cell_type": "code",
   "execution_count": 88,
   "id": "f76c620e-d7da-470b-905f-3ed46a7450c1",
   "metadata": {},
   "outputs": [
    {
     "data": {
      "text/plain": [
       "[<matplotlib.lines.Line2D at 0x7f5b73570130>,\n",
       " <matplotlib.lines.Line2D at 0x7f5b73570190>]"
      ]
     },
     "execution_count": 88,
     "metadata": {},
     "output_type": "execute_result"
    },
    {
     "data": {
      "image/png": "[encoded data removed]",
      "text/plain": [
       "<Figure size 640x480 with 1 Axes>"
      ]
     },
     "metadata": {},
     "output_type": "display_data"
    }
   ],
   "source": [
    "plt.plot(t, t ** 2, t, 0.5 * t ** 2)"
   ]
  },
  {
   "cell_type": "code",
   "execution_count": null,
   "id": "fdbdcac8-c23c-4d6a-8ea1-3d0cdda56eb7",
   "metadata": {},
   "outputs": [],
   "source": []
  }
 ],
 "metadata": {
  "kernelspec": {
   "display_name": "Python 3 (ipykernel)",
   "language": "python",
   "name": "python3"
  },
  "language_info": {
   "codemirror_mode": {
    "name": "ipython",
    "version": 3
   },
   "file_extension": ".py",
   "mimetype": "text/x-python",
   "name": "python",
   "nbconvert_exporter": "python",
   "pygments_lexer": "ipython3",
   "version": "3.10.12"
  }
 },
 "nbformat": 4,
 "nbformat_minor": 5
}
